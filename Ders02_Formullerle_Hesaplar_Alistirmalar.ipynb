{
 "cells": [
  {
   "cell_type": "markdown",
   "metadata": {},
   "source": [
    "# Alıştırma Sorularının Cevapları #\n",
    "\n",
    "1. Metre cinsinden verilen bir uzunluğu inch (1 inch = 2.54 cm), foot (1 foot = 12 inch), yard (1 yard = 3 feet) ve mile (1 mil = 1760 yard) birimlerine dönüştüren bir program yazınız. Programınızı 640 metre için test ediniz (25196.85 inch, 2099.74 feet, 699.91 yard ve 0.3977 mil)."
   ]
  },
  {
   "cell_type": "code",
   "execution_count": 1,
   "metadata": {},
   "outputs": [
    {
     "name": "stdout",
     "output_type": "stream",
     "text": [
      "x = 3937.01 inch\n",
      "x = 328.08 foot\n",
      "x = 109.36 yard\n",
      "x = 0.06 mile\n"
     ]
    }
   ],
   "source": [
    "x = 100 # metre\n",
    "inch = 0.0254 # metre\n",
    "foot = 12*inch\n",
    "yard = 3*foot\n",
    "mile = 1760*yard\n",
    "print('x = {:.2f} inch'.format(x / inch))\n",
    "print('x = {:.2f} foot'.format(x / foot))\n",
    "print('x = {:.2f} yard'.format(x / yard))\n",
    "print('x = {:.2f} mile'.format(x / mile))"
   ]
  },
  {
   "cell_type": "markdown",
   "metadata": {},
   "source": [
    "2. Bir cismin yoğunluğu kütlesiyle hacminin çarpımı olarak tanımlanır ($m = d V$). Demir ($d_{Fe} = 7.87 g cm^{-3}$, aliminyum ($d_{Al} = 2.70 g cm^{-3}$, bakır ($d_{Cu} = 8.96 g cm^{-3}$), hava ($d_{hava} = 1.283 g cm^{-3}$ ve ortalama insan vücudunun ($d_{insan} = 1.01 g cm^{-3}$) bir litresinin kaç kilogram olduğunu bulan bir program yazınız."
   ]
  },
  {
   "cell_type": "code",
   "execution_count": 6,
   "metadata": {},
   "outputs": [
    {
     "name": "stdout",
     "output_type": "stream",
     "text": [
      "Kutleler Fe: 7.87, Al:2.70, Cu:8.96, Hava:1.28 kilogramdir.\n"
     ]
    }
   ],
   "source": [
    "dFe = 7.87 # Demirin yogunlugu/, g/cm3 \n",
    "dAl = 2.70 # Aliminyumun yogunlugu/, g/cm3 \n",
    "dCu = 8.96 # Bakirin yogunlugu/, g/cm3 \n",
    "dHava = 1.283 # Havanin yogunlugu/, g/cm3 \n",
    "V = 1000 # 1 litrenin cm3 karsiligi\n",
    "g2kg = 1e-3 # grami kilograma ceviren carpan\n",
    "mFe = dFe * V\n",
    "mAl = dAl * V\n",
    "mCu = dCu * V\n",
    "mHava = dHava * V\n",
    "print(\"Kutleler Fe: {:.2f}, Al:{:.2f}, Cu:{:.2f}, Hava:{:.2f} kilogramdir.\"\\\n",
    "      .format(mFe*g2kg, mAl*g2kg, mCu*g2kg, mHava*g2kg))"
   ]
  },
  {
   "cell_type": "markdown",
   "metadata": {},
   "source": [
    "3. Aşağıda verilen programdaki hataları bulup, düzeltiniz ve programı çalıştırınız."
   ]
  },
  {
   "cell_type": "code",
   "execution_count": 10,
   "metadata": {},
   "outputs": [
    {
     "name": "stdout",
     "output_type": "stream",
     "text": [
      "sin(1)=0.841471\n"
     ]
    }
   ],
   "source": [
    "from math import sin\n",
    "x=1\n",
    "print('sin(%g)=%g' % (x, sin(x)))"
   ]
  },
  {
   "cell_type": "markdown",
   "metadata": {},
   "source": [
    "4. Aşağıdaki küçük programcıkları yazıp çalıştırarak verilen ifadelerin doğruluğunu test ediniz. Programların çalışmadığı durumlarda hatalarını bulup, düzelttikten sonra tekrar çalıştırınız.\n",
    "\n",
    "a) sin2+cos2=1?"
   ]
  },
  {
   "cell_type": "code",
   "execution_count": 12,
   "metadata": {},
   "outputs": [
    {
     "name": "stdout",
     "output_type": "stream",
     "text": [
      "1.0\n"
     ]
    }
   ],
   "source": [
    "from math import pi, sin, cos\n",
    "x = pi/4\n",
    "val = sin(x)**2 + cos(x)**2\n",
    "print(val)"
   ]
  },
  {
   "cell_type": "markdown",
   "metadata": {},
   "source": [
    "b) $s = v_{0} t + 1/2 a t^{2}$ ifadesinde $v_{0} = 3 m/s$ , $t = 1 s$, $a = 2 m/s^{2}$ için s'yi hesaplayınız."
   ]
  },
  {
   "cell_type": "code",
   "execution_count": 13,
   "metadata": {},
   "outputs": [
    {
     "name": "stdout",
     "output_type": "stream",
     "text": [
      "4.0\n"
     ]
    }
   ],
   "source": [
    "v0 = 3 # m/s\n",
    "t = 1 # s\n",
    "a = 2 # m/s**2\n",
    "s = v0*t + 0.5*a*t**2\n",
    "print(s)"
   ]
  },
  {
   "cell_type": "markdown",
   "metadata": {},
   "source": [
    "c) Aşağıdaki ifadeleri doğrulayınız\n",
    "\n",
    "$$(a + b)^{2} = a^{2} + 2ab + b^{2}$$\n",
    "$$(a − b)^{2} = a^{2} − 2ab + b^{2}$$"
   ]
  },
  {
   "cell_type": "code",
   "execution_count": 16,
   "metadata": {},
   "outputs": [
    {
     "name": "stdout",
     "output_type": "stream",
     "text": [
      "Birinci ifade: 73.96 = 73.96\n",
      "Ikinci ifade: 4 = 4\n"
     ]
    }
   ],
   "source": [
    "a = 3.3; b = 5.3\n",
    "a2 = a**2\n",
    "b2 = b**2\n",
    "eq1_sum = a2 + 2*a*b + b2\n",
    "eq2_sum = a2 - 2*a*b + b2\n",
    "eq1_pow = (a + b)**2\n",
    "eq2_pow = (a - b)**2\n",
    "print('Birinci ifade: %g = %g' % (eq1_sum, eq1_pow))\n",
    "print('Ikinci ifade: %g = %g' % (eq2_pow, eq2_pow))"
   ]
  },
  {
   "cell_type": "markdown",
   "metadata": {},
   "source": [
    "5. Gauss fonksiyonu aşağıdaki ifade ile verilir ve neredeyse her bilim dalında en sık kullanılan fonksiyonlardan biridir. Bu fonksiyonu $\\mu = 0$ ortalama değeri, $\\sigma = 2$ standart sapması ve $x = 1$ için hesaplayan bir program yazınız.\n",
    "\n",
    "$$f(x) = \\frac{1}{\\sqrt{2 \\pi} \\sigma} exp[- \\frac{1}{2}( \\frac{x - \\mu}{\\sigma} )]$$"
   ]
  },
  {
   "cell_type": "code",
   "execution_count": 20,
   "metadata": {},
   "outputs": [
    {
     "name": "stdout",
     "output_type": "stream",
     "text": [
      "x = 1.00, mu = 0.00, sigma = 2.00 icin Gauss = 0.155348\n"
     ]
    }
   ],
   "source": [
    "import math\n",
    "x = 1\n",
    "mu = 0\n",
    "sigma = 2\n",
    "# Gauss fonksiyonu\n",
    "fx = 1 / (math.sqrt(2*math.pi)*sigma)*math.exp(-1/2*((x - mu) / sigma))\n",
    "print('x = {:.2f}, mu = {:.2f}, sigma = {:.2f} icin Gauss = {:g}'\\\n",
    "     .format(x, mu, sigma, fx))"
   ]
  },
  {
   "cell_type": "markdown",
   "metadata": {},
   "source": [
    "6. Aşağıda santigrat dereceyi fahrenheit'a dönüştüren bazı kod satırları verilmiştir. Doğru çalışmayacak olan satırları bulup, düzeltiniz ve çalıştırınız."
   ]
  },
  {
   "cell_type": "code",
   "execution_count": 22,
   "metadata": {
    "scrolled": true
   },
   "outputs": [
    {
     "name": "stdout",
     "output_type": "stream",
     "text": [
      "69.80000000000001\n",
      "69.80000000000001\n",
      "69.8\n",
      "69.80\n",
      "69.80\n",
      "69.8\n",
      "69.80\n",
      "69.800000\n"
     ]
    }
   ],
   "source": [
    "C = 21; F = 9/5*C + 32; print(F)\n",
    "C = 21.0; F = (9/5)*C + 32; print(F)\n",
    "C = 21.0; F = 9*C/5 + 32; print(F)\n",
    "C = 21.0; F = 9.*(C/5.0) + 32; print('%.2f' % F)\n",
    "C = 21.0; F = 9.0*C/5.0 + 32; print(\"{:.2f}\".format(F))\n",
    "C = 21; F = 9*C/5 + 32; print(F)\n",
    "C = 21.0; F = (1/5)*9*C + 32; print('%3.2f' % F)\n",
    "C = 21; F = (1./5)*9*C + 32; print(\"{:f}\".format(F))"
   ]
  }
 ],
 "metadata": {
  "kernelspec": {
   "display_name": "Python 3",
   "language": "python",
   "name": "python3"
  },
  "language_info": {
   "codemirror_mode": {
    "name": "ipython",
    "version": 3
   },
   "file_extension": ".py",
   "mimetype": "text/x-python",
   "name": "python",
   "nbconvert_exporter": "python",
   "pygments_lexer": "ipython3",
   "version": "3.5.2"
  }
 },
 "nbformat": 4,
 "nbformat_minor": 2
}
