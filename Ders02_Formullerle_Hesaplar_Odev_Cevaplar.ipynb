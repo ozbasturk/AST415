{
 "cells": [
  {
   "cell_type": "markdown",
   "metadata": {},
   "source": [
    "# Ödev 1 Cevaplar #\n",
    "## Teslim Tarihi: 7 Ekim 2019,  Pazartesi 14:00 ##\n",
    "\n",
    "1. (5 puan) Adınızı ve soyadınızı ekrana yazdıran bir satırlık bir Python kodu yazınız."
   ]
  },
  {
   "cell_type": "code",
   "execution_count": 1,
   "metadata": {},
   "outputs": [
    {
     "name": "stdout",
     "output_type": "stream",
     "text": [
      "Ozgur Basturk\n"
     ]
    }
   ],
   "source": [
    "print(\"Ozgur Basturk\") # Turkce karakter kullanilmayacak"
   ]
  },
  {
   "cell_type": "markdown",
   "metadata": {},
   "source": [
    "2. (10 puan) Aşağıdaki işlemi yapan ve sonucunu ekrana yazdıran bir program yazınız\n",
    "\n",
    "$$7 + 2^3 \\div \\frac{1}{4} + 1 - 2*(3^2*(4 -2) / 9)$$"
   ]
  },
  {
   "cell_type": "code",
   "execution_count": 3,
   "metadata": {},
   "outputs": [
    {
     "name": "stdout",
     "output_type": "stream",
     "text": [
      "36.0\n"
     ]
    }
   ],
   "source": [
    "print(7 + 2**3/(1/4) + 1 - 2*(3**2*(4 - 2)/9))"
   ]
  },
  {
   "cell_type": "markdown",
   "metadata": {},
   "source": [
    "3. (35 puan) Hava direnci nedeniyle bir cisme uygulanan kuvvet aşağıdaki formül ile verilir. Burada $\\rho$, havanın yoğunluğunu, $V$ cismin hızını, $A$ cismin hız vektörüne dik kesit alanını, $C_{D}$ ise sürtünme katsayısını göstermektedir. Havanın yoğunluğunu ($\\rho_{hava}$) $1.24 kg / m^{3}$ , mükemmel bir küre olarak düşünebileceğiniz cismin yarıçapını $r = 20$ cm, cismin hızını 20 km/saat ve sürtünme katsayısını ($C_{D}$) 0.25 alarak cisme hava direnci tarafından uygulanan kuvveti Newton cinsinden hesaplayınız. \n",
    "\n",
    "$$F_{d} = \\frac{1}{2} C_{D} \\rho A V^{2}$$"
   ]
  },
  {
   "cell_type": "code",
   "execution_count": 4,
   "metadata": {},
   "outputs": [
    {
     "name": "stdout",
     "output_type": "stream",
     "text": [
      "Fd = 0.601169 N\n"
     ]
    }
   ],
   "source": [
    "# Dik kesit alanini hesaplarken pi'ye ihtiyac duyacagimiz icin math kutuphanesinden cagiralim\n",
    "from math import pi\n",
    "# Problemin degiskenlerini tanimlayalım\n",
    "CD = 0.25\n",
    "r = 20 # cm\n",
    "rho = 1.24 # kg/m3\n",
    "V = 20 # km/sa\n",
    "V = V*1e3/3600 # m/s\n",
    "A = pi*r**2 # Mukemmel kurenin gosterecegi dikey kesit alani bir daire kesitidir (cm2)\n",
    "A = A/1e4 # A'yi metrekare cinsinden ifade edelim\n",
    "Fd = (1/2)*CD*rho*A*V**2 # kg m / s2 (N)\n",
    "print(\"Fd = {:g} N\".format(Fd))"
   ]
  },
  {
   "cell_type": "markdown",
   "metadata": {},
   "source": [
    "Aşağıda $V_0 = 5$ m/s hızla ve yatayla $\\theta = 30^\\circ$ yapacak şekilde atılan bir cisim için yatay atış problemini çözen bir Python programı yer almaktadır. Bu programın neden çalışmadığını bulduktan sonra, t = 0.3 saniye için çalışır ve x ile y'yi aynı formüllerle hesaplayıp, doğru bir şekilde ekrana yazar hale getiriniz.\n",
    "\n",
    "$$ x = V_0*cos(\\theta)*t $$\n",
    "$$ y = V_0*sin(\\theta)*t - 0.5*g*t^2 $$\n",
    "\n",
    "```\n",
    "v0 = 3 # m/s\n",
    "cos_theta = 0.866 # birimsiz\n",
    "sin_theta = 0.5 # birimsiz\n",
    "g = 9.81 # m/s^2\n",
    "x = v0*cos(theta) \n",
    "y = v0*sin_theta*t - 1/2*g*t^2\n",
    "t = 0.3 # s\n",
    "print(\"x = {:.2g} m, y = {:.2d} m\".format(y,x)\")\n",
    "```"
   ]
  },
  {
   "cell_type": "code",
   "execution_count": 3,
   "metadata": {},
   "outputs": [
    {
     "name": "stdout",
     "output_type": "stream",
     "text": [
      "x = 1.3 m, y = 0.31 m\n"
     ]
    }
   ],
   "source": [
    "v0 = 5 # m/s\n",
    "cos_theta = 0.866 # birimsiz\n",
    "sin_theta = 0.5 # birimsiz\n",
    "g = 9.81 # m/s^2\n",
    "t = 0.3 # saniye\n",
    "x = v0*cos_theta*t\n",
    "y = v0*sin_theta*t - 1/2*g*t**2\n",
    "print(\"x = {:.2g} m, y = {:.2f} m\".format(x,y))"
   ]
  }
 ],
 "metadata": {
  "kernelspec": {
   "display_name": "Python 3",
   "language": "python",
   "name": "python3"
  },
  "language_info": {
   "codemirror_mode": {
    "name": "ipython",
    "version": 3
   },
   "file_extension": ".py",
   "mimetype": "text/x-python",
   "name": "python",
   "nbconvert_exporter": "python",
   "pygments_lexer": "ipython3",
   "version": "3.5.2"
  }
 },
 "nbformat": 4,
 "nbformat_minor": 2
}
